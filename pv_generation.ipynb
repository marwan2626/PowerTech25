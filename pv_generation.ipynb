{
 "cells": [
  {
   "cell_type": "code",
   "execution_count": null,
   "metadata": {},
   "outputs": [],
   "source": [
    "import numpy as np\n",
    "import pandas as pd\n",
    "from datetime import datetime, timedelta\n",
    "\n",
    "# Constants\n",
    "TIMESTEP = 15  # minutes\n",
    "FCSTCASE = ['summer']\n",
    "\n",
    "# Generating time intervals\n",
    "time_intervals = [datetime(2024, 8, 1) + timedelta(minutes=i*TIMESTEP) for i in range(int(24*60/TIMESTEP))]\n",
    "time_intervals_str = [t.strftime(\"%H:%M:%S\") for t in time_intervals]\n",
    "\n",
    "# Generating PV generation profile based on the given formula\n",
    "if FCSTCASE[0] == 'summer':\n",
    "    pvMuRaw = 0.57 * np.sin(np.linspace(-np.deg2rad(40), np.pi + np.deg2rad(55), int(24*60/TIMESTEP)))\n",
    "    pvMuRaw[pvMuRaw < 0] = 0  # PV generation cannot be negative\n",
    "\n",
    "# Creating the DataFrame\n",
    "df = pd.DataFrame({\n",
    "    'time': time_intervals_str,\n",
    "    'pvgen': pvMuRaw\n",
    "})\n",
    "\n",
    "# Exporting to CSV\n",
    "csv_file_path = \"/pv_generation_profile.csv\"\n",
    "df.to_csv(csv_file_path, index=False)\n",
    "\n",
    "import ace_tools as tools; tools.display_dataframe_to_user(name=\"PV Generation Profile\", dataframe=df)\n",
    "\n",
    "csv_file_path"
   ]
  }
 ],
 "metadata": {
  "language_info": {
   "name": "python"
  }
 },
 "nbformat": 4,
 "nbformat_minor": 2
}
