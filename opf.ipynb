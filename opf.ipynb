{
 "cells": [
  {
   "cell_type": "code",
   "execution_count": 1,
   "metadata": {},
   "outputs": [],
   "source": [
    "import numpy as np\n",
    "import pandas as pd\n",
    "\n",
    "import pandapower as pp\n",
    "import pandapower.control as control\n",
    "import pandapower.networks as nw\n",
    "import pandapower.timeseries as timeseries\n",
    "from pandapower.timeseries import OutputWriter, DFData\n",
    "from pandapower.control import ConstControl\n",
    "\n",
    "# Load and prepare the Pandapower network\n",
    "net = nw.create_cigre_network_lv()\n",
    "\n",
    "# Set switches and other parameters as needed\n",
    "net.switch.loc[1, \"closed\"] = False\n",
    "net.switch.loc[2, \"closed\"] = False\n",
    "for load_idx in net.load.index:\n",
    "    net.load.at[load_idx, 'controllable'] = False\n",
    "for line_idx in net.line.index:\n",
    "    net.line.at[line_idx, 'max_loading_percent'] = 100\n"
   ]
  },
  {
   "cell_type": "code",
   "execution_count": null,
   "metadata": {},
   "outputs": [],
   "source": [
    "# Load and preprocess the PV generation profile CSV file\n",
    "df_pv = pd.read_csv(\"pv_generation_profile.csv\")\n",
    "df_pv['time'] = pd.to_datetime(df_pv['time'], format='%H:%M:%S').dt.time\n",
    "df_pv['time_step'] = range(len(df_pv))  # Create a numerical index\n",
    "df_pv.set_index('time_step', inplace=True)\n",
    "df_pv['pvgen'] = df_pv['pvgen'] * 250 / 1000\n",
    "ds_pv = DFData(df_pv)"
   ]
  },
  {
   "cell_type": "code",
   "execution_count": null,
   "metadata": {},
   "outputs": [],
   "source": [
    "# Load and preprocess the load profile CSV file\n",
    "df = pd.read_csv(\"load_profile_1111.csv\")\n",
    "df['time'] = pd.to_datetime(df['time'], format='%H:%M:%S').dt.time\n",
    "df['time_step'] = range(len(df))  # Create a numerical index\n",
    "df.set_index('time_step', inplace=True)\n",
    "df['mult'] = df['mult'] * 15 / 1000\n",
    "ds = DFData(df)"
   ]
  },
  {
   "cell_type": "code",
   "execution_count": null,
   "metadata": {},
   "outputs": [],
   "source": [
    "### SCRIPTS ###\n",
    "import param as pm\n",
    "import data as dt\n",
    "from data import bus,sets,load,bess,gen,inverter,branch,cost,oltc,pv,ts, COP, hd"
   ]
  },
  {
   "cell_type": "code",
   "execution_count": null,
   "metadata": {},
   "outputs": [],
   "source": [
    "import gurobipy as gp\n",
    "import numpy as np\n",
    "\n",
    "def create_opf_model():\n",
    "    m = gp.Model('OPF')\n",
    "    \n",
    "    # Define your variables\n",
    "    pR = m.addVars(len(net.bus), name='pR')\n",
    "    qR = m.addVars(len(net.bus), name='qR')\n",
    "    vRe = m.addVars(len(net.bus), name='vRe')\n",
    "    vIm = m.addVars(len(net.bus), name='vIm')\n",
    "    # ... other variables\n",
    "    \n",
    "    # Define constraints\n",
    "    # Example: Voltage constraints\n",
    "    m.addConstrs((vRe[i] <= 1.1 for i in range(len(net.bus))), \"VoltageUpperBound\")\n",
    "    m.addConstrs((vRe[i] >= 0.9 for i in range(len(net.bus))), \"VoltageLowerBound\")\n",
    "    # ... other constraints\n",
    "    \n",
    "    # Define objective function\n",
    "    m.setObjective(gp.quicksum(pR[i] for i in range(len(net.bus))), gp.GRB.MINIMIZE)\n",
    "    \n",
    "    return m\n",
    "\n",
    "opf_model = create_opf_model()"
   ]
  },
  {
   "cell_type": "code",
   "execution_count": null,
   "metadata": {},
   "outputs": [],
   "source": [
    "def run_load_flow(net):\n",
    "    pp.runpp(net)\n",
    "    return net\n",
    "\n",
    "def update_opf_model(opf_model, net):\n",
    "    # Update variables and constraints in the OPF model based on new load flow results\n",
    "    for i, bus in net.bus.iterrows():\n",
    "        opf_model.getVarByName(f\"vRe[{i}]\").lb = net.res_bus.vm_pu.at[i] \n",
    "        opf_model.getVarByName(f\"vRe[{i}]\").ub = net.res_bus.vm_pu.at[i] \n",
    "        # ... other updates"
   ]
  },
  {
   "cell_type": "code",
   "execution_count": null,
   "metadata": {},
   "outputs": [],
   "source": [
    "def iterative_opf(net, opf_model, max_iterations=10, tolerance=1e-3):\n",
    "    for iteration in range(max_iterations):\n",
    "        # Run load flow\n",
    "        net = run_load_flow(net)\n",
    "        \n",
    "        # Update OPF model with new states\n",
    "        update_opf_model(opf_model, net)\n",
    "        \n",
    "        # Optimize\n",
    "        opf_model.optimize()\n",
    "        \n",
    "        # Check for convergence (Example: based on the objective function or variables change)\n",
    "        if opf_model.status == gp.GRB.OPTIMAL:\n",
    "            if iteration > 0 and abs(previous_obj_value - opf_model.objVal) < tolerance:\n",
    "                print(\"Converged!\")\n",
    "                break\n",
    "            previous_obj_value = opf_model.objVal\n",
    "        else:\n",
    "            print(\"Optimization failed\")\n",
    "            break\n",
    "\n",
    "    return net, opf_model\n",
    "\n",
    "# Run the iterative optimization process\n",
    "final_net, final_opf_model = iterative_opf(net, opf_model)"
   ]
  }
 ],
 "metadata": {
  "kernelspec": {
   "display_name": "Pandapipes",
   "language": "python",
   "name": "python3"
  },
  "language_info": {
   "codemirror_mode": {
    "name": "ipython",
    "version": 3
   },
   "file_extension": ".py",
   "mimetype": "text/x-python",
   "name": "python",
   "nbconvert_exporter": "python",
   "pygments_lexer": "ipython3",
   "version": "3.8.19"
  }
 },
 "nbformat": 4,
 "nbformat_minor": 2
}
