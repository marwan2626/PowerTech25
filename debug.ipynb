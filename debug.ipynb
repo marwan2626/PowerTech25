{
 "cells": [
  {
   "cell_type": "code",
   "execution_count": 1,
   "metadata": {},
   "outputs": [],
   "source": [
    "import griddata as gd\n",
    "\n",
    "net, const_load_household, time_steps, df_household = gd.setup_grid_powertech25(season='winter')"
   ]
  },
  {
   "cell_type": "code",
   "execution_count": 3,
   "metadata": {},
   "outputs": [
    {
     "ename": "AttributeError",
     "evalue": "'tuple' object has no attribute 'load'",
     "output_type": "error",
     "traceback": [
      "\u001b[1;31m---------------------------------------------------------------------------\u001b[0m",
      "\u001b[1;31mAttributeError\u001b[0m                            Traceback (most recent call last)",
      "\u001b[1;32m~\\AppData\\Local\\Temp\\ipykernel_23688\\4180295120.py\u001b[0m in \u001b[0;36m<module>\u001b[1;34m\u001b[0m\n\u001b[1;32m----> 1\u001b[1;33m \u001b[0mnet\u001b[0m\u001b[1;33m.\u001b[0m\u001b[0mload\u001b[0m\u001b[1;33m\u001b[0m\u001b[1;33m\u001b[0m\u001b[0m\n\u001b[0m",
      "\u001b[1;31mAttributeError\u001b[0m: 'tuple' object has no attribute 'load'"
     ]
    }
   ],
   "source": [
    "net.load"
   ]
  },
  {
   "cell_type": "code",
   "execution_count": null,
   "metadata": {},
   "outputs": [],
   "source": [
    "import networkx as nx\n",
    "import matplotlib.pyplot as plt\n",
    "\n",
    "# Create a directed graph\n",
    "G = nx.DiGraph()\n",
    "\n",
    "# Add all buses as nodes\n",
    "for bus in net.bus.index:\n",
    "    G.add_node(bus)\n",
    "\n",
    "# Add edges based on line connections\n",
    "for line in net.line.itertuples():\n",
    "    from_bus = line.from_bus\n",
    "    to_bus = line.to_bus\n",
    "    G.add_edge(from_bus, to_bus)\n",
    "\n",
    "# Add edges for transformer connections\n",
    "for trafo in net.trafo.itertuples():\n",
    "    hv_bus = trafo.hv_bus\n",
    "    lv_bus = trafo.lv_bus\n",
    "    G.add_edge(hv_bus, lv_bus)\n",
    "\n",
    "# Find the root bus (e.g., the slack bus or transformer bus)\n",
    "root_bus = net.ext_grid.bus.iloc[0]\n",
    "\n",
    "# Debugging: Ensure the root bus exists in the graph\n",
    "if root_bus not in G.nodes:\n",
    "    print(f\"Warning: Root bus {root_bus} is not in the graph.\")\n",
    "    print(f\"Available nodes: {list(G.nodes)}\")\n",
    "else:\n",
    "    print(f\"Root bus {root_bus} found.\")\n",
    "\n",
    "# Generate a topological sort to ensure hierarchy\n",
    "levels = {node: 0 for node in G.nodes}\n",
    "visited = set()\n",
    "\n",
    "def assign_levels(node, level):\n",
    "    if node in visited:\n",
    "        return\n",
    "    visited.add(node)\n",
    "    levels[node] = level\n",
    "    for neighbor in G.neighbors(node):\n",
    "        assign_levels(neighbor, level + 1)\n",
    "\n",
    "# Assign levels starting from the root bus\n",
    "assign_levels(root_bus, 0)\n",
    "\n",
    "# Define a position based on levels\n",
    "pos = {}\n",
    "nodes_by_level = {}\n",
    "for node, level in levels.items():\n",
    "    if level not in nodes_by_level:\n",
    "        nodes_by_level[level] = []\n",
    "    nodes_by_level[level].append(node)\n",
    "\n",
    "for level, nodes in nodes_by_level.items():\n",
    "    y = -level  # Downward hierarchy\n",
    "    x_positions = range(len(nodes))\n",
    "    for x, node in zip(x_positions, nodes):\n",
    "        pos[node] = (x, y)\n",
    "\n",
    "# Plot the graph\n",
    "plt.figure(figsize=(12, 8))\n",
    "nx.draw(\n",
    "    G,\n",
    "    pos,\n",
    "    with_labels=True,\n",
    "    node_size=500,\n",
    "    node_color=\"lightblue\",\n",
    "    font_size=10,\n",
    "    arrowsize=10,\n",
    ")\n",
    "\n",
    "# Highlight the root bus\n",
    "nx.draw_networkx_nodes(G, pos, nodelist=[root_bus], node_color=\"red\", node_size=700)\n",
    "plt.title(\"Hierarchical Representation of the Grid with Transformer Connections\")\n",
    "plt.show()\n"
   ]
  },
  {
   "cell_type": "code",
   "execution_count": 5,
   "metadata": {},
   "outputs": [],
   "source": [
    "import pandapower as pp\n",
    "# Buses and lines to remove\n",
    "buses_to_drop = [14, 34, 9, 19]\n",
    "\n",
    "# Remove lines associated with the buses to drop\n",
    "lines_to_drop = net.line[\n",
    "    (net.line.from_bus.isin(buses_to_drop)) | (net.line.to_bus.isin(buses_to_drop))\n",
    "].index\n",
    "\n",
    "# Drop the identified lines\n",
    "pp.drop_lines(net, lines_to_drop)\n",
    "\n",
    "# Drop the identified buses\n",
    "pp.drop_buses(net, buses_to_drop)"
   ]
  },
  {
   "cell_type": "code",
   "execution_count": null,
   "metadata": {},
   "outputs": [],
   "source": [
    "import networkx as nx\n",
    "import matplotlib.pyplot as plt\n",
    "\n",
    "# Create a directed graph\n",
    "G = nx.DiGraph()\n",
    "\n",
    "# Add all buses as nodes\n",
    "for bus in net.bus.index:\n",
    "    G.add_node(bus)\n",
    "\n",
    "# Add edges based on line connections\n",
    "for line in net.line.itertuples():\n",
    "    from_bus = line.from_bus\n",
    "    to_bus = line.to_bus\n",
    "    G.add_edge(from_bus, to_bus)\n",
    "\n",
    "# Add edges for transformer connections\n",
    "for trafo in net.trafo.itertuples():\n",
    "    hv_bus = trafo.hv_bus\n",
    "    lv_bus = trafo.lv_bus\n",
    "    G.add_edge(hv_bus, lv_bus)\n",
    "\n",
    "# Find the root bus (e.g., the slack bus or transformer bus)\n",
    "root_bus = net.ext_grid.bus.iloc[0]\n",
    "\n",
    "# Debugging: Ensure the root bus exists in the graph\n",
    "if root_bus not in G.nodes:\n",
    "    print(f\"Warning: Root bus {root_bus} is not in the graph.\")\n",
    "    print(f\"Available nodes: {list(G.nodes)}\")\n",
    "else:\n",
    "    print(f\"Root bus {root_bus} found.\")\n",
    "\n",
    "# Generate a topological sort to ensure hierarchy\n",
    "levels = {node: 0 for node in G.nodes}\n",
    "visited = set()\n",
    "\n",
    "def assign_levels(node, level):\n",
    "    if node in visited:\n",
    "        return\n",
    "    visited.add(node)\n",
    "    levels[node] = level\n",
    "    for neighbor in G.neighbors(node):\n",
    "        assign_levels(neighbor, level + 1)\n",
    "\n",
    "# Assign levels starting from the root bus\n",
    "assign_levels(root_bus, 0)\n",
    "\n",
    "# Define a position based on levels\n",
    "pos = {}\n",
    "nodes_by_level = {}\n",
    "for node, level in levels.items():\n",
    "    if level not in nodes_by_level:\n",
    "        nodes_by_level[level] = []\n",
    "    nodes_by_level[level].append(node)\n",
    "\n",
    "for level, nodes in nodes_by_level.items():\n",
    "    y = -level  # Downward hierarchy\n",
    "    x_positions = range(len(nodes))\n",
    "    for x, node in zip(x_positions, nodes):\n",
    "        pos[node] = (x, y)\n",
    "\n",
    "# Plot the graph\n",
    "plt.figure(figsize=(12, 8))\n",
    "nx.draw(\n",
    "    G,\n",
    "    pos,\n",
    "    with_labels=True,\n",
    "    node_size=500,\n",
    "    node_color=\"lightblue\",\n",
    "    font_size=10,\n",
    "    arrowsize=10,\n",
    ")\n",
    "\n",
    "# Highlight the root bus\n",
    "nx.draw_networkx_nodes(G, pos, nodelist=[root_bus], node_color=\"red\", node_size=700)\n",
    "plt.title(\"Hierarchical Representation of the Grid with Transformer Connections\")\n",
    "plt.show()\n"
   ]
  },
  {
   "cell_type": "code",
   "execution_count": 94,
   "metadata": {},
   "outputs": [],
   "source": [
    "# Set constant loads to 3 kW for all loads except R11 to R18\n",
    "constant_loads = net.load.index.difference([1, 2, 3, 4, 5])  # Indices of loads R1, I2, C1, C12, C13, C14, C17, C18, C19, C20\n",
    "net.load.loc[constant_loads, 'p_mw'] = 15/1000"
   ]
  },
  {
   "cell_type": "code",
   "execution_count": 95,
   "metadata": {},
   "outputs": [],
   "source": [
    "# Initialize ConstControl controller to update values of the loads R11 to R18\n",
    "profile_loads = net.load.index.intersection([0, 1, 2, 3, 4, 5])  # Indices of loads R11 to R18\n",
    "const_load = control.ConstControl(net, element='load', element_index=profile_loads,\n",
    "                                  variable='p_mw', data_source=ds, profile_name=[\"mult\"]*len(profile_loads))\n"
   ]
  },
  {
   "cell_type": "code",
   "execution_count": 96,
   "metadata": {},
   "outputs": [],
   "source": [
    "# Run a power flow for the initial condition to check if the network is properly configured\n",
    "try:\n",
    "    pp.runpp(net)\n",
    "except pp.optimal_powerflow.OPFNotConverged:\n",
    "    print(\"Initial power flow did not converge. Please check the network configuration.\")"
   ]
  },
  {
   "cell_type": "code",
   "execution_count": null,
   "metadata": {},
   "outputs": [],
   "source": [
    "# initialising the outputwriter to save data to excel files in the current folder. You can change this to .json, .csv, or .pickle as well\n",
    "ow = timeseries.OutputWriter(net, output_path=\"./\", output_file_type=\".xlsx\")\n",
    "# adding vm_pu of all buses and line_loading in percent of all lines as outputs to be stored\n",
    "ow.log_variable('res_bus', 'vm_pu')\n",
    "ow.log_variable('res_line', 'loading_percent')\n",
    "ow.log_variable('res_load', 'p_mw')\n",
    "ow.log_variable('res_load', 'q_mvar')\n",
    "\n",
    "\n",
    "# starting the timeseries simulation for one day -> 96 15 min values.\n",
    "timeseries.run_timeseries(net)\n",
    "# now checkout the folders res_bus and res_line in your current working dir"
   ]
  },
  {
   "cell_type": "code",
   "execution_count": 98,
   "metadata": {},
   "outputs": [],
   "source": [
    "# Load the results\n",
    "vm_pu = pd.read_excel('res_bus/vm_pu.xlsx', index_col=0)\n",
    "loading_percent = pd.read_excel('res_line/loading_percent.xlsx', index_col=0)\n",
    "load_p_mw = pd.read_excel('res_load/p_mw.xlsx', index_col=0)\n",
    "load_q_mvar = pd.read_excel('res_load/q_mvar.xlsx', index_col=0)\n"
   ]
  },
  {
   "cell_type": "code",
   "execution_count": null,
   "metadata": {},
   "outputs": [],
   "source": [
    "import pandapower.plotting as plot\n",
    "# Plot the grid\n",
    "plot.simple_plot(net, show_plot=True)"
   ]
  },
  {
   "cell_type": "code",
   "execution_count": null,
   "metadata": {},
   "outputs": [],
   "source": [
    "import matplotlib.pyplot as plt\n",
    "# Generate the plots\n",
    "plt.figure(figsize=(10, 5))\n",
    "plt.plot(vm_pu, label=vm_pu.columns)\n",
    "plt.xlabel('Time Step')\n",
    "plt.ylabel('Voltage Magnitude (p.u.)')\n",
    "plt.title('Voltage Magnitude over Time')\n",
    "plt.legend()\n",
    "plt.show()\n"
   ]
  },
  {
   "cell_type": "code",
   "execution_count": null,
   "metadata": {},
   "outputs": [],
   "source": [
    "\n",
    "plt.figure(figsize=(10, 5))\n",
    "plt.plot(loading_percent, label=loading_percent.columns)\n",
    "plt.xlabel('Time Step')\n",
    "plt.ylabel('Loading Percent')\n",
    "plt.title('Line Loading over Time')\n",
    "plt.legend()\n",
    "plt.show()"
   ]
  },
  {
   "cell_type": "code",
   "execution_count": null,
   "metadata": {},
   "outputs": [],
   "source": [
    "plt.figure(figsize=(10, 5))\n",
    "plt.plot(load_p_mw, label=load_p_mw.columns)\n",
    "plt.xlabel('Time Step')\n",
    "plt.ylabel('Active Power Load (MW)')\n",
    "plt.title('Active Power Load over Time')\n",
    "plt.legend()\n",
    "plt.show()"
   ]
  },
  {
   "cell_type": "code",
   "execution_count": null,
   "metadata": {},
   "outputs": [],
   "source": [
    "plt.figure(figsize=(10, 5))\n",
    "plt.plot(load_q_mvar, label=load_q_mvar.columns)\n",
    "plt.xlabel('Time Step')\n",
    "plt.ylabel('Reactive Power Load (MVAr)')\n",
    "plt.title('Reactive Power Load over Time')\n",
    "plt.legend()\n",
    "plt.show()"
   ]
  }
 ],
 "metadata": {
  "kernelspec": {
   "display_name": "Pandapipes",
   "language": "python",
   "name": "python3"
  },
  "language_info": {
   "codemirror_mode": {
    "name": "ipython",
    "version": 3
   },
   "file_extension": ".py",
   "mimetype": "text/x-python",
   "name": "python",
   "nbconvert_exporter": "python",
   "pygments_lexer": "ipython3",
   "version": "3.8.19"
  }
 },
 "nbformat": 4,
 "nbformat_minor": 2
}
