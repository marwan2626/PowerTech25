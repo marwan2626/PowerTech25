{
 "cells": [
  {
   "cell_type": "code",
   "execution_count": 3,
   "metadata": {},
   "outputs": [
    {
     "name": "stdout",
     "output_type": "stream",
     "text": [
      "Load control setup:\n",
      "ConstControl [load.p_mw]\n"
     ]
    },
    {
     "name": "stderr",
     "output_type": "stream",
     "text": [
      "  1%|          | 1/96 [00:00<00:00, 400.14it/s]"
     ]
    },
    {
     "name": "stdout",
     "output_type": "stream",
     "text": [
      "KeyError: 0. Please check the indices and timeseries data sources.\n",
      "Network state after timeseries simulation:\n",
      "This pandapower network includes the following parameter tables:\n",
      "   - bus (3 elements)\n",
      "   - load (1 element)\n",
      "   - storage (1 element)\n",
      "   - ext_grid (1 element)\n",
      "   - line (2 elements)\n",
      "   - controller (1 element)\n",
      "   - output_writer (1 element)\n",
      "{'time': Timestamp('2023-01-01 00:00:00', freq='15T'), 'bus': array([], dtype=float64), 'line': array([], dtype=float64), 'storage': None}\n",
      "[{'time': Timestamp('2023-01-01 00:00:00', freq='15T'), 'bus': array([], dtype=float64), 'line': array([], dtype=float64), 'storage': None}, {'time': Timestamp('2023-01-01 00:15:00', freq='15T'), 'bus': array([], dtype=float64), 'line': array([], dtype=float64), 'storage': None}, {'time': Timestamp('2023-01-01 00:30:00', freq='15T'), 'bus': array([], dtype=float64), 'line': array([], dtype=float64), 'storage': None}, {'time': Timestamp('2023-01-01 00:45:00', freq='15T'), 'bus': array([], dtype=float64), 'line': array([], dtype=float64), 'storage': None}, {'time': Timestamp('2023-01-01 01:00:00', freq='15T'), 'bus': array([], dtype=float64), 'line': array([], dtype=float64), 'storage': None}, {'time': Timestamp('2023-01-01 01:15:00', freq='15T'), 'bus': array([], dtype=float64), 'line': array([], dtype=float64), 'storage': None}, {'time': Timestamp('2023-01-01 01:30:00', freq='15T'), 'bus': array([], dtype=float64), 'line': array([], dtype=float64), 'storage': None}, {'time': Timestamp('2023-01-01 01:45:00', freq='15T'), 'bus': array([], dtype=float64), 'line': array([], dtype=float64), 'storage': None}, {'time': Timestamp('2023-01-01 02:00:00', freq='15T'), 'bus': array([], dtype=float64), 'line': array([], dtype=float64), 'storage': None}, {'time': Timestamp('2023-01-01 02:15:00', freq='15T'), 'bus': array([], dtype=float64), 'line': array([], dtype=float64), 'storage': None}, {'time': Timestamp('2023-01-01 02:30:00', freq='15T'), 'bus': array([], dtype=float64), 'line': array([], dtype=float64), 'storage': None}, {'time': Timestamp('2023-01-01 02:45:00', freq='15T'), 'bus': array([], dtype=float64), 'line': array([], dtype=float64), 'storage': None}, {'time': Timestamp('2023-01-01 03:00:00', freq='15T'), 'bus': array([], dtype=float64), 'line': array([], dtype=float64), 'storage': None}, {'time': Timestamp('2023-01-01 03:15:00', freq='15T'), 'bus': array([], dtype=float64), 'line': array([], dtype=float64), 'storage': None}, {'time': Timestamp('2023-01-01 03:30:00', freq='15T'), 'bus': array([], dtype=float64), 'line': array([], dtype=float64), 'storage': None}, {'time': Timestamp('2023-01-01 03:45:00', freq='15T'), 'bus': array([], dtype=float64), 'line': array([], dtype=float64), 'storage': None}, {'time': Timestamp('2023-01-01 04:00:00', freq='15T'), 'bus': array([], dtype=float64), 'line': array([], dtype=float64), 'storage': None}, {'time': Timestamp('2023-01-01 04:15:00', freq='15T'), 'bus': array([], dtype=float64), 'line': array([], dtype=float64), 'storage': None}, {'time': Timestamp('2023-01-01 04:30:00', freq='15T'), 'bus': array([], dtype=float64), 'line': array([], dtype=float64), 'storage': None}, {'time': Timestamp('2023-01-01 04:45:00', freq='15T'), 'bus': array([], dtype=float64), 'line': array([], dtype=float64), 'storage': None}, {'time': Timestamp('2023-01-01 05:00:00', freq='15T'), 'bus': array([], dtype=float64), 'line': array([], dtype=float64), 'storage': None}, {'time': Timestamp('2023-01-01 05:15:00', freq='15T'), 'bus': array([], dtype=float64), 'line': array([], dtype=float64), 'storage': None}, {'time': Timestamp('2023-01-01 05:30:00', freq='15T'), 'bus': array([], dtype=float64), 'line': array([], dtype=float64), 'storage': None}, {'time': Timestamp('2023-01-01 05:45:00', freq='15T'), 'bus': array([], dtype=float64), 'line': array([], dtype=float64), 'storage': None}, {'time': Timestamp('2023-01-01 06:00:00', freq='15T'), 'bus': array([], dtype=float64), 'line': array([], dtype=float64), 'storage': None}, {'time': Timestamp('2023-01-01 06:15:00', freq='15T'), 'bus': array([], dtype=float64), 'line': array([], dtype=float64), 'storage': None}, {'time': Timestamp('2023-01-01 06:30:00', freq='15T'), 'bus': array([], dtype=float64), 'line': array([], dtype=float64), 'storage': None}, {'time': Timestamp('2023-01-01 06:45:00', freq='15T'), 'bus': array([], dtype=float64), 'line': array([], dtype=float64), 'storage': None}, {'time': Timestamp('2023-01-01 07:00:00', freq='15T'), 'bus': array([], dtype=float64), 'line': array([], dtype=float64), 'storage': None}, {'time': Timestamp('2023-01-01 07:15:00', freq='15T'), 'bus': array([], dtype=float64), 'line': array([], dtype=float64), 'storage': None}, {'time': Timestamp('2023-01-01 07:30:00', freq='15T'), 'bus': array([], dtype=float64), 'line': array([], dtype=float64), 'storage': None}, {'time': Timestamp('2023-01-01 07:45:00', freq='15T'), 'bus': array([], dtype=float64), 'line': array([], dtype=float64), 'storage': None}, {'time': Timestamp('2023-01-01 08:00:00', freq='15T'), 'bus': array([], dtype=float64), 'line': array([], dtype=float64), 'storage': None}, {'time': Timestamp('2023-01-01 08:15:00', freq='15T'), 'bus': array([], dtype=float64), 'line': array([], dtype=float64), 'storage': None}, {'time': Timestamp('2023-01-01 08:30:00', freq='15T'), 'bus': array([], dtype=float64), 'line': array([], dtype=float64), 'storage': None}, {'time': Timestamp('2023-01-01 08:45:00', freq='15T'), 'bus': array([], dtype=float64), 'line': array([], dtype=float64), 'storage': None}, {'time': Timestamp('2023-01-01 09:00:00', freq='15T'), 'bus': array([], dtype=float64), 'line': array([], dtype=float64), 'storage': None}, {'time': Timestamp('2023-01-01 09:15:00', freq='15T'), 'bus': array([], dtype=float64), 'line': array([], dtype=float64), 'storage': None}, {'time': Timestamp('2023-01-01 09:30:00', freq='15T'), 'bus': array([], dtype=float64), 'line': array([], dtype=float64), 'storage': None}, {'time': Timestamp('2023-01-01 09:45:00', freq='15T'), 'bus': array([], dtype=float64), 'line': array([], dtype=float64), 'storage': None}, {'time': Timestamp('2023-01-01 10:00:00', freq='15T'), 'bus': array([], dtype=float64), 'line': array([], dtype=float64), 'storage': None}, {'time': Timestamp('2023-01-01 10:15:00', freq='15T'), 'bus': array([], dtype=float64), 'line': array([], dtype=float64), 'storage': None}, {'time': Timestamp('2023-01-01 10:30:00', freq='15T'), 'bus': array([], dtype=float64), 'line': array([], dtype=float64), 'storage': None}, {'time': Timestamp('2023-01-01 10:45:00', freq='15T'), 'bus': array([], dtype=float64), 'line': array([], dtype=float64), 'storage': None}, {'time': Timestamp('2023-01-01 11:00:00', freq='15T'), 'bus': array([], dtype=float64), 'line': array([], dtype=float64), 'storage': None}, {'time': Timestamp('2023-01-01 11:15:00', freq='15T'), 'bus': array([], dtype=float64), 'line': array([], dtype=float64), 'storage': None}, {'time': Timestamp('2023-01-01 11:30:00', freq='15T'), 'bus': array([], dtype=float64), 'line': array([], dtype=float64), 'storage': None}, {'time': Timestamp('2023-01-01 11:45:00', freq='15T'), 'bus': array([], dtype=float64), 'line': array([], dtype=float64), 'storage': None}, {'time': Timestamp('2023-01-01 12:00:00', freq='15T'), 'bus': array([], dtype=float64), 'line': array([], dtype=float64), 'storage': None}, {'time': Timestamp('2023-01-01 12:15:00', freq='15T'), 'bus': array([], dtype=float64), 'line': array([], dtype=float64), 'storage': None}, {'time': Timestamp('2023-01-01 12:30:00', freq='15T'), 'bus': array([], dtype=float64), 'line': array([], dtype=float64), 'storage': None}, {'time': Timestamp('2023-01-01 12:45:00', freq='15T'), 'bus': array([], dtype=float64), 'line': array([], dtype=float64), 'storage': None}, {'time': Timestamp('2023-01-01 13:00:00', freq='15T'), 'bus': array([], dtype=float64), 'line': array([], dtype=float64), 'storage': None}, {'time': Timestamp('2023-01-01 13:15:00', freq='15T'), 'bus': array([], dtype=float64), 'line': array([], dtype=float64), 'storage': None}, {'time': Timestamp('2023-01-01 13:30:00', freq='15T'), 'bus': array([], dtype=float64), 'line': array([], dtype=float64), 'storage': None}, {'time': Timestamp('2023-01-01 13:45:00', freq='15T'), 'bus': array([], dtype=float64), 'line': array([], dtype=float64), 'storage': None}, {'time': Timestamp('2023-01-01 14:00:00', freq='15T'), 'bus': array([], dtype=float64), 'line': array([], dtype=float64), 'storage': None}, {'time': Timestamp('2023-01-01 14:15:00', freq='15T'), 'bus': array([], dtype=float64), 'line': array([], dtype=float64), 'storage': None}, {'time': Timestamp('2023-01-01 14:30:00', freq='15T'), 'bus': array([], dtype=float64), 'line': array([], dtype=float64), 'storage': None}, {'time': Timestamp('2023-01-01 14:45:00', freq='15T'), 'bus': array([], dtype=float64), 'line': array([], dtype=float64), 'storage': None}, {'time': Timestamp('2023-01-01 15:00:00', freq='15T'), 'bus': array([], dtype=float64), 'line': array([], dtype=float64), 'storage': None}, {'time': Timestamp('2023-01-01 15:15:00', freq='15T'), 'bus': array([], dtype=float64), 'line': array([], dtype=float64), 'storage': None}, {'time': Timestamp('2023-01-01 15:30:00', freq='15T'), 'bus': array([], dtype=float64), 'line': array([], dtype=float64), 'storage': None}, {'time': Timestamp('2023-01-01 15:45:00', freq='15T'), 'bus': array([], dtype=float64), 'line': array([], dtype=float64), 'storage': None}, {'time': Timestamp('2023-01-01 16:00:00', freq='15T'), 'bus': array([], dtype=float64), 'line': array([], dtype=float64), 'storage': None}, {'time': Timestamp('2023-01-01 16:15:00', freq='15T'), 'bus': array([], dtype=float64), 'line': array([], dtype=float64), 'storage': None}, {'time': Timestamp('2023-01-01 16:30:00', freq='15T'), 'bus': array([], dtype=float64), 'line': array([], dtype=float64), 'storage': None}, {'time': Timestamp('2023-01-01 16:45:00', freq='15T'), 'bus': array([], dtype=float64), 'line': array([], dtype=float64), 'storage': None}, {'time': Timestamp('2023-01-01 17:00:00', freq='15T'), 'bus': array([], dtype=float64), 'line': array([], dtype=float64), 'storage': None}, {'time': Timestamp('2023-01-01 17:15:00', freq='15T'), 'bus': array([], dtype=float64), 'line': array([], dtype=float64), 'storage': None}, {'time': Timestamp('2023-01-01 17:30:00', freq='15T'), 'bus': array([], dtype=float64), 'line': array([], dtype=float64), 'storage': None}, {'time': Timestamp('2023-01-01 17:45:00', freq='15T'), 'bus': array([], dtype=float64), 'line': array([], dtype=float64), 'storage': None}, {'time': Timestamp('2023-01-01 18:00:00', freq='15T'), 'bus': array([], dtype=float64), 'line': array([], dtype=float64), 'storage': None}, {'time': Timestamp('2023-01-01 18:15:00', freq='15T'), 'bus': array([], dtype=float64), 'line': array([], dtype=float64), 'storage': None}, {'time': Timestamp('2023-01-01 18:30:00', freq='15T'), 'bus': array([], dtype=float64), 'line': array([], dtype=float64), 'storage': None}, {'time': Timestamp('2023-01-01 18:45:00', freq='15T'), 'bus': array([], dtype=float64), 'line': array([], dtype=float64), 'storage': None}, {'time': Timestamp('2023-01-01 19:00:00', freq='15T'), 'bus': array([], dtype=float64), 'line': array([], dtype=float64), 'storage': None}, {'time': Timestamp('2023-01-01 19:15:00', freq='15T'), 'bus': array([], dtype=float64), 'line': array([], dtype=float64), 'storage': None}, {'time': Timestamp('2023-01-01 19:30:00', freq='15T'), 'bus': array([], dtype=float64), 'line': array([], dtype=float64), 'storage': None}, {'time': Timestamp('2023-01-01 19:45:00', freq='15T'), 'bus': array([], dtype=float64), 'line': array([], dtype=float64), 'storage': None}, {'time': Timestamp('2023-01-01 20:00:00', freq='15T'), 'bus': array([], dtype=float64), 'line': array([], dtype=float64), 'storage': None}, {'time': Timestamp('2023-01-01 20:15:00', freq='15T'), 'bus': array([], dtype=float64), 'line': array([], dtype=float64), 'storage': None}, {'time': Timestamp('2023-01-01 20:30:00', freq='15T'), 'bus': array([], dtype=float64), 'line': array([], dtype=float64), 'storage': None}, {'time': Timestamp('2023-01-01 20:45:00', freq='15T'), 'bus': array([], dtype=float64), 'line': array([], dtype=float64), 'storage': None}, {'time': Timestamp('2023-01-01 21:00:00', freq='15T'), 'bus': array([], dtype=float64), 'line': array([], dtype=float64), 'storage': None}, {'time': Timestamp('2023-01-01 21:15:00', freq='15T'), 'bus': array([], dtype=float64), 'line': array([], dtype=float64), 'storage': None}, {'time': Timestamp('2023-01-01 21:30:00', freq='15T'), 'bus': array([], dtype=float64), 'line': array([], dtype=float64), 'storage': None}, {'time': Timestamp('2023-01-01 21:45:00', freq='15T'), 'bus': array([], dtype=float64), 'line': array([], dtype=float64), 'storage': None}, {'time': Timestamp('2023-01-01 22:00:00', freq='15T'), 'bus': array([], dtype=float64), 'line': array([], dtype=float64), 'storage': None}, {'time': Timestamp('2023-01-01 22:15:00', freq='15T'), 'bus': array([], dtype=float64), 'line': array([], dtype=float64), 'storage': None}, {'time': Timestamp('2023-01-01 22:30:00', freq='15T'), 'bus': array([], dtype=float64), 'line': array([], dtype=float64), 'storage': None}, {'time': Timestamp('2023-01-01 22:45:00', freq='15T'), 'bus': array([], dtype=float64), 'line': array([], dtype=float64), 'storage': None}, {'time': Timestamp('2023-01-01 23:00:00', freq='15T'), 'bus': array([], dtype=float64), 'line': array([], dtype=float64), 'storage': None}, {'time': Timestamp('2023-01-01 23:15:00', freq='15T'), 'bus': array([], dtype=float64), 'line': array([], dtype=float64), 'storage': None}, {'time': Timestamp('2023-01-01 23:30:00', freq='15T'), 'bus': array([], dtype=float64), 'line': array([], dtype=float64), 'storage': None}, {'time': Timestamp('2023-01-01 23:45:00', freq='15T'), 'bus': array([], dtype=float64), 'line': array([], dtype=float64), 'storage': None}]\n"
     ]
    },
    {
     "name": "stderr",
     "output_type": "stream",
     "text": [
      "\n"
     ]
    }
   ],
   "source": [
    "import pandapower as pp\n",
    "import pandapower.timeseries as ts\n",
    "import pandapower.control as control\n",
    "from pandapower.timeseries import DFData\n",
    "import pandas as pd\n",
    "import numpy as np\n",
    "\n",
    "# Create an empty network\n",
    "net = pp.create_empty_network()\n",
    "\n",
    "# Add buses\n",
    "bus1 = pp.create_bus(net, vn_kv=110)\n",
    "bus2 = pp.create_bus(net, vn_kv=110)\n",
    "bus3 = pp.create_bus(net, vn_kv=110)\n",
    "\n",
    "# Add lines\n",
    "pp.create_line(net, bus1, bus2, length_km=10, std_type=\"NAYY 4x50 SE\")\n",
    "pp.create_line(net, bus2, bus3, length_km=10, std_type=\"NAYY 4x50 SE\")\n",
    "\n",
    "# Add loads\n",
    "pp.create_load(net, bus3, p_mw=100)\n",
    "\n",
    "# Add a battery storage\n",
    "pp.create_storage(net, bus2, p_mw=0, max_e_mwh=1, soc_percent=50, min_e_mwh=0.1, max_p_mw=0.5, min_p_mw=-0.5)\n",
    "\n",
    "# Set the slack bus\n",
    "pp.create_ext_grid(net, bus1)\n",
    "\n",
    "# Create timeseries data\n",
    "time_steps = pd.date_range('2023-01-01', periods=96, freq='15T')  # 24 hours with 15-minute intervals\n",
    "load_profile = pd.DataFrame({'p_mw': 100 + 10 * np.sin(np.linspace(0, 3.14*2, 96))}, index=time_steps)\n",
    "\n",
    "# Create a DataFrame to hold the timeseries data\n",
    "ds_load = DFData(load_profile)\n",
    "\n",
    "# Create a control strategy for the load\n",
    "load_idx = net.load.index[0]\n",
    "const_load = control.ConstControl(net, element='load', variable='p_mw', element_index=load_idx, data_source=ds_load, profile_name='p_mw')\n",
    "\n",
    "# Debug: Check load control setup\n",
    "print(\"Load control setup:\")\n",
    "print(const_load)\n",
    "\n",
    "# Add an OutputWriter to store the results\n",
    "ow = ts.OutputWriter(net, output_path=\"./\", output_file_type=\".csv\")\n",
    "ow.log_variable('res_bus', 'vm_pu')\n",
    "ow.log_variable('res_line', 'loading_percent')\n",
    "ow.log_variable('res_storage', 'soc_percent')\n",
    "\n",
    "# Time step settings\n",
    "n_ts = len(load_profile)  # Number of time steps\n",
    "\n",
    "# Run timeseries simulation\n",
    "try:\n",
    "    pp.timeseries.run_timeseries(net, time_steps=range(n_ts))\n",
    "except KeyError as e:\n",
    "    print(f\"KeyError: {e}. Please check the indices and timeseries data sources.\")\n",
    "except Exception as e:\n",
    "    print(f\"An error occurred: {e}\")\n",
    "\n",
    "# Debug: Check network state after timeseries simulation\n",
    "print(\"Network state after timeseries simulation:\")\n",
    "print(net)\n",
    "\n",
    "# Collect results\n",
    "results = []\n",
    "for t in range(n_ts):\n",
    "    time_step_results = {\n",
    "        'time': load_profile.index[t],\n",
    "        'bus': net.res_bus['vm_pu'].values if 'vm_pu' in net.res_bus.columns else [],\n",
    "        'line': net.res_line['loading_percent'].values if 'loading_percent' in net.res_line.columns else []\n",
    "    }\n",
    "    \n",
    "    if 'soc_percent' in net.res_storage.columns:\n",
    "        time_step_results['storage'] = net.res_storage['soc_percent'].values\n",
    "    else:\n",
    "        time_step_results['storage'] = None\n",
    "\n",
    "    results.append(time_step_results)\n",
    "\n",
    "# Print results for the first timestep\n",
    "print(results[0])\n",
    "\n",
    "# Print all results for debugging\n",
    "print(results)\n"
   ]
  }
 ],
 "metadata": {
  "kernelspec": {
   "display_name": "Pandapipes",
   "language": "python",
   "name": "python3"
  },
  "language_info": {
   "codemirror_mode": {
    "name": "ipython",
    "version": 3
   },
   "file_extension": ".py",
   "mimetype": "text/x-python",
   "name": "python",
   "nbconvert_exporter": "python",
   "pygments_lexer": "ipython3",
   "version": "3.8.19"
  }
 },
 "nbformat": 4,
 "nbformat_minor": 2
}
